{
 "cells": [
  {
   "cell_type": "markdown",
   "metadata": {},
   "source": [
    "* @Author : Pramil Paudel, Sumit Bhattarai\n",
    "* Development Env : Jupyter Lab\n",
    "* Module : Preprocessing \n",
    "* Summary : This module will create a data using some data modulation technique and create an interactive data to visulization to understand more about data. "
   ]
  },
  {
   "cell_type": "code",
   "execution_count": 137,
   "metadata": {},
   "outputs": [
    {
     "name": "stdout",
     "output_type": "stream",
     "text": [
      "Loaded Successfully -- -- -- -- -- -- -- -- -- -- -- -- --\n"
     ]
    }
   ],
   "source": [
    "import os\n",
    "import random\n",
    "import pandas as pd\n",
    "import numpy as np\n",
    "import matplotlib.pyplot as plt\n",
    "import seaborn as sns\n",
    "from pylab import rcParams\n",
    "from mpl_toolkits.mplot3d import Axes3D\n",
    "from pandas.plotting import scatter_matrix\n",
    "from IPython.display import Image\n",
    "import pydotplus\n",
    "from sklearn.linear_model import LinearRegression\n",
    "from sklearn.model_selection import train_test_split\n",
    "from sklearn.neighbors import KNeighborsClassifier\n",
    "from sklearn import preprocessing\n",
    "from sklearn import svm\n",
    "from sklearn.naive_bayes import GaussianNB\n",
    "from sklearn.metrics import confusion_matrix\n",
    "from sklearn.tree import DecisionTreeClassifier\n",
    "from sklearn import metrics\n",
    "from sklearn import preprocessing\n",
    "from sklearn.tree import export_graphviz\n",
    "from sklearn.externals.six import StringIO\n",
    "from sklearn.cluster import DBSCAN\n",
    "from sklearn import metrics\n",
    "from sklearn.datasets import make_blobs\n",
    "from sklearn.preprocessing import StandardScaler\n",
    "from sklearn.cluster import KMeans\n",
    "from sklearn.ensemble import RandomForestRegressor\n",
    "from sklearn.neural_network import MLPRegressor\n",
    "from sklearn.datasets import make_regression\n",
    "from fbprophet import Prophet\n",
    "print(\"Loaded Successfully -- -- -- -- -- -- -- -- -- -- -- -- --\")"
   ]
  },
  {
   "cell_type": "code",
   "execution_count": 138,
   "metadata": {},
   "outputs": [],
   "source": [
    "source_path = \"/Users/patthar/Documents/FALL_2020/INTRO_DATASCIENCE/SEMESTER_PROJECT/EECS_731_SEMESTER_PROJECT/data/pre_processing/\""
   ]
  },
  {
   "cell_type": "code",
   "execution_count": 139,
   "metadata": {},
   "outputs": [
    {
     "data": {
      "text/html": [
       "<div>\n",
       "<style scoped>\n",
       "    .dataframe tbody tr th:only-of-type {\n",
       "        vertical-align: middle;\n",
       "    }\n",
       "\n",
       "    .dataframe tbody tr th {\n",
       "        vertical-align: top;\n",
       "    }\n",
       "\n",
       "    .dataframe thead th {\n",
       "        text-align: right;\n",
       "    }\n",
       "</style>\n",
       "<table border=\"1\" class=\"dataframe\">\n",
       "  <thead>\n",
       "    <tr style=\"text-align: right;\">\n",
       "      <th></th>\n",
       "      <th>TMC</th>\n",
       "      <th>Severity</th>\n",
       "      <th>Start_Lat</th>\n",
       "      <th>Start_Lng</th>\n",
       "      <th>End_Lat</th>\n",
       "      <th>End_Lng</th>\n",
       "      <th>Distance(mi)</th>\n",
       "      <th>Number</th>\n",
       "      <th>Temperature(F)</th>\n",
       "      <th>Wind_Chill(F)</th>\n",
       "      <th>Humidity(%)</th>\n",
       "      <th>Pressure(in)</th>\n",
       "      <th>Visibility(mi)</th>\n",
       "      <th>Wind_Speed(mph)</th>\n",
       "      <th>Precipitation(in)</th>\n",
       "    </tr>\n",
       "  </thead>\n",
       "  <tbody>\n",
       "    <tr>\n",
       "      <th>count</th>\n",
       "      <td>4019.000000</td>\n",
       "      <td>7939.000000</td>\n",
       "      <td>7939.000000</td>\n",
       "      <td>7939.000000</td>\n",
       "      <td>3920.000000</td>\n",
       "      <td>3920.000000</td>\n",
       "      <td>7939.000000</td>\n",
       "      <td>619.000000</td>\n",
       "      <td>5336.000000</td>\n",
       "      <td>3521.000000</td>\n",
       "      <td>5333.000000</td>\n",
       "      <td>5336.000000</td>\n",
       "      <td>5332.000000</td>\n",
       "      <td>5175.000000</td>\n",
       "      <td>2948.000000</td>\n",
       "    </tr>\n",
       "    <tr>\n",
       "      <th>mean</th>\n",
       "      <td>208.286638</td>\n",
       "      <td>2.601335</td>\n",
       "      <td>38.937491</td>\n",
       "      <td>-94.896490</td>\n",
       "      <td>38.917301</td>\n",
       "      <td>-94.950385</td>\n",
       "      <td>0.412967</td>\n",
       "      <td>6872.620355</td>\n",
       "      <td>56.756222</td>\n",
       "      <td>47.070151</td>\n",
       "      <td>70.687043</td>\n",
       "      <td>29.550671</td>\n",
       "      <td>8.774149</td>\n",
       "      <td>9.815285</td>\n",
       "      <td>0.021126</td>\n",
       "    </tr>\n",
       "    <tr>\n",
       "      <th>std</th>\n",
       "      <td>25.979276</td>\n",
       "      <td>0.588076</td>\n",
       "      <td>0.296841</td>\n",
       "      <td>0.696566</td>\n",
       "      <td>0.329284</td>\n",
       "      <td>0.800350</td>\n",
       "      <td>1.836577</td>\n",
       "      <td>5756.936777</td>\n",
       "      <td>21.430681</td>\n",
       "      <td>26.480313</td>\n",
       "      <td>20.401120</td>\n",
       "      <td>0.607929</td>\n",
       "      <td>2.677129</td>\n",
       "      <td>4.955286</td>\n",
       "      <td>0.100109</td>\n",
       "    </tr>\n",
       "    <tr>\n",
       "      <th>min</th>\n",
       "      <td>201.000000</td>\n",
       "      <td>1.000000</td>\n",
       "      <td>37.020660</td>\n",
       "      <td>-102.023415</td>\n",
       "      <td>37.045940</td>\n",
       "      <td>-101.752655</td>\n",
       "      <td>0.000000</td>\n",
       "      <td>1.000000</td>\n",
       "      <td>-4.000000</td>\n",
       "      <td>-20.500000</td>\n",
       "      <td>13.000000</td>\n",
       "      <td>25.520000</td>\n",
       "      <td>0.000000</td>\n",
       "      <td>0.000000</td>\n",
       "      <td>0.000000</td>\n",
       "    </tr>\n",
       "    <tr>\n",
       "      <th>25%</th>\n",
       "      <td>201.000000</td>\n",
       "      <td>2.000000</td>\n",
       "      <td>38.934584</td>\n",
       "      <td>-94.788864</td>\n",
       "      <td>38.934200</td>\n",
       "      <td>-94.789120</td>\n",
       "      <td>0.000000</td>\n",
       "      <td>1599.500000</td>\n",
       "      <td>39.900000</td>\n",
       "      <td>24.000000</td>\n",
       "      <td>55.000000</td>\n",
       "      <td>29.010000</td>\n",
       "      <td>10.000000</td>\n",
       "      <td>6.000000</td>\n",
       "      <td>0.000000</td>\n",
       "    </tr>\n",
       "    <tr>\n",
       "      <th>50%</th>\n",
       "      <td>201.000000</td>\n",
       "      <td>3.000000</td>\n",
       "      <td>38.995260</td>\n",
       "      <td>-94.704780</td>\n",
       "      <td>38.990420</td>\n",
       "      <td>-94.705120</td>\n",
       "      <td>0.000000</td>\n",
       "      <td>5601.000000</td>\n",
       "      <td>60.050000</td>\n",
       "      <td>47.000000</td>\n",
       "      <td>73.000000</td>\n",
       "      <td>29.750000</td>\n",
       "      <td>10.000000</td>\n",
       "      <td>9.200000</td>\n",
       "      <td>0.000000</td>\n",
       "    </tr>\n",
       "    <tr>\n",
       "      <th>75%</th>\n",
       "      <td>201.000000</td>\n",
       "      <td>3.000000</td>\n",
       "      <td>39.062613</td>\n",
       "      <td>-94.677712</td>\n",
       "      <td>39.056222</td>\n",
       "      <td>-94.678490</td>\n",
       "      <td>0.450000</td>\n",
       "      <td>10398.000000</td>\n",
       "      <td>74.000000</td>\n",
       "      <td>71.000000</td>\n",
       "      <td>88.000000</td>\n",
       "      <td>30.060000</td>\n",
       "      <td>10.000000</td>\n",
       "      <td>12.700000</td>\n",
       "      <td>0.000000</td>\n",
       "    </tr>\n",
       "    <tr>\n",
       "      <th>max</th>\n",
       "      <td>406.000000</td>\n",
       "      <td>4.000000</td>\n",
       "      <td>39.841581</td>\n",
       "      <td>-94.607147</td>\n",
       "      <td>39.841581</td>\n",
       "      <td>-94.588520</td>\n",
       "      <td>49.492000</td>\n",
       "      <td>36650.000000</td>\n",
       "      <td>102.900000</td>\n",
       "      <td>97.000000</td>\n",
       "      <td>100.000000</td>\n",
       "      <td>30.840000</td>\n",
       "      <td>10.000000</td>\n",
       "      <td>32.200000</td>\n",
       "      <td>1.570000</td>\n",
       "    </tr>\n",
       "  </tbody>\n",
       "</table>\n",
       "</div>"
      ],
      "text/plain": [
       "               TMC     Severity    Start_Lat    Start_Lng      End_Lat  \\\n",
       "count  4019.000000  7939.000000  7939.000000  7939.000000  3920.000000   \n",
       "mean    208.286638     2.601335    38.937491   -94.896490    38.917301   \n",
       "std      25.979276     0.588076     0.296841     0.696566     0.329284   \n",
       "min     201.000000     1.000000    37.020660  -102.023415    37.045940   \n",
       "25%     201.000000     2.000000    38.934584   -94.788864    38.934200   \n",
       "50%     201.000000     3.000000    38.995260   -94.704780    38.990420   \n",
       "75%     201.000000     3.000000    39.062613   -94.677712    39.056222   \n",
       "max     406.000000     4.000000    39.841581   -94.607147    39.841581   \n",
       "\n",
       "           End_Lng  Distance(mi)        Number  Temperature(F)  Wind_Chill(F)  \\\n",
       "count  3920.000000   7939.000000    619.000000     5336.000000    3521.000000   \n",
       "mean    -94.950385      0.412967   6872.620355       56.756222      47.070151   \n",
       "std       0.800350      1.836577   5756.936777       21.430681      26.480313   \n",
       "min    -101.752655      0.000000      1.000000       -4.000000     -20.500000   \n",
       "25%     -94.789120      0.000000   1599.500000       39.900000      24.000000   \n",
       "50%     -94.705120      0.000000   5601.000000       60.050000      47.000000   \n",
       "75%     -94.678490      0.450000  10398.000000       74.000000      71.000000   \n",
       "max     -94.588520     49.492000  36650.000000      102.900000      97.000000   \n",
       "\n",
       "       Humidity(%)  Pressure(in)  Visibility(mi)  Wind_Speed(mph)  \\\n",
       "count  5333.000000   5336.000000     5332.000000      5175.000000   \n",
       "mean     70.687043     29.550671        8.774149         9.815285   \n",
       "std      20.401120      0.607929        2.677129         4.955286   \n",
       "min      13.000000     25.520000        0.000000         0.000000   \n",
       "25%      55.000000     29.010000       10.000000         6.000000   \n",
       "50%      73.000000     29.750000       10.000000         9.200000   \n",
       "75%      88.000000     30.060000       10.000000        12.700000   \n",
       "max     100.000000     30.840000       10.000000        32.200000   \n",
       "\n",
       "       Precipitation(in)  \n",
       "count        2948.000000  \n",
       "mean            0.021126  \n",
       "std             0.100109  \n",
       "min             0.000000  \n",
       "25%             0.000000  \n",
       "50%             0.000000  \n",
       "75%             0.000000  \n",
       "max             1.570000  "
      ]
     },
     "execution_count": 139,
     "metadata": {},
     "output_type": "execute_result"
    }
   ],
   "source": [
    "kansas_road_accident = pd.read_csv(source_path+\"preprocessed_kansas_accident.csv\")\n",
    "kansas_road_accident.describe()"
   ]
  },
  {
   "cell_type": "code",
   "execution_count": 154,
   "metadata": {},
   "outputs": [
    {
     "name": "stdout",
     "output_type": "stream",
     "text": [
      "<class 'pandas.core.frame.DataFrame'>\n",
      "RangeIndex: 7939 entries, 0 to 7938\n",
      "Data columns (total 49 columns):\n",
      " #   Column                 Non-Null Count  Dtype  \n",
      "---  ------                 --------------  -----  \n",
      " 0   ID                     7939 non-null   object \n",
      " 1   Source                 7939 non-null   object \n",
      " 2   TMC                    4019 non-null   float64\n",
      " 3   Severity               7939 non-null   int64  \n",
      " 4   Start_Time             7939 non-null   object \n",
      " 5   End_Time               7939 non-null   object \n",
      " 6   Start_Lat              7939 non-null   float64\n",
      " 7   Start_Lng              7939 non-null   float64\n",
      " 8   End_Lat                3920 non-null   float64\n",
      " 9   End_Lng                3920 non-null   float64\n",
      " 10  Distance(mi)           7939 non-null   float64\n",
      " 11  Description            7939 non-null   object \n",
      " 12  Number                 619 non-null    float64\n",
      " 13  Street                 7939 non-null   object \n",
      " 14  Side                   7939 non-null   object \n",
      " 15  City                   7939 non-null   object \n",
      " 16  County                 7939 non-null   object \n",
      " 17  State                  7939 non-null   object \n",
      " 18  Zipcode                7939 non-null   object \n",
      " 19  Country                7939 non-null   object \n",
      " 20  Timezone               7939 non-null   object \n",
      " 21  Airport_Code           7938 non-null   object \n",
      " 22  Weather_Timestamp      7930 non-null   object \n",
      " 23  Temperature(F)         5336 non-null   float64\n",
      " 24  Wind_Chill(F)          3521 non-null   float64\n",
      " 25  Humidity(%)            5333 non-null   float64\n",
      " 26  Pressure(in)           5336 non-null   float64\n",
      " 27  Visibility(mi)         5332 non-null   float64\n",
      " 28  Wind_Direction         7918 non-null   object \n",
      " 29  Wind_Speed(mph)        5175 non-null   float64\n",
      " 30  Precipitation(in)      2948 non-null   float64\n",
      " 31  Weather_Condition      5332 non-null   object \n",
      " 32  Amenity                7939 non-null   bool   \n",
      " 33  Bump                   7939 non-null   bool   \n",
      " 34  Crossing               7939 non-null   bool   \n",
      " 35  Give_Way               7939 non-null   bool   \n",
      " 36  Junction               7939 non-null   bool   \n",
      " 37  No_Exit                7939 non-null   bool   \n",
      " 38  Railway                7939 non-null   bool   \n",
      " 39  Roundabout             7939 non-null   bool   \n",
      " 40  Station                7939 non-null   bool   \n",
      " 41  Stop                   7939 non-null   bool   \n",
      " 42  Traffic_Calming        7939 non-null   bool   \n",
      " 43  Traffic_Signal         7939 non-null   bool   \n",
      " 44  Turning_Loop           7939 non-null   bool   \n",
      " 45  Sunrise_Sunset         7939 non-null   object \n",
      " 46  Civil_Twilight         7939 non-null   object \n",
      " 47  Nautical_Twilight      7939 non-null   object \n",
      " 48  Astronomical_Twilight  7939 non-null   object \n",
      "dtypes: bool(13), float64(14), int64(1), object(21)\n",
      "memory usage: 2.3+ MB\n"
     ]
    }
   ],
   "source": [
    "kansas_road_accident.info()"
   ]
  },
  {
   "cell_type": "code",
   "execution_count": 149,
   "metadata": {},
   "outputs": [],
   "source": [
    "def plot_pie_chart(col):\n",
    "    kansas_road_accident.groupby(col).size().plot.pie(title =\"Pie chart based on\" + col, figsize=(5,5))\n",
    "    plt.show()"
   ]
  },
  {
   "cell_type": "code",
   "execution_count": 129,
   "metadata": {},
   "outputs": [],
   "source": [
    "def plot_bar_chart(col):\n",
    "    colors = [\"rosybrown\",\"darksalmon\",\"sandybrown\",\"seagreen\",\"khaki\",\"lightblue\",\"plum\",\"y\"]\n",
    "    kansas_road_accident.groupby(col).size().plot.bar(figsize=(25,3),title=\"Bar Plot based on \" + col ,color =random.choice(colors))\n",
    "    plt.show()"
   ]
  },
  {
   "cell_type": "code",
   "execution_count": 130,
   "metadata": {},
   "outputs": [
    {
     "data": {
      "image/png": "[encoded data removed]",
      "text/plain": [
       "<Figure size 360x360 with 1 Axes>"
      ]
     },
     "metadata": {},
     "output_type": "display_data"
    }
   ],
   "source": [
    "for col in [\"Severity\"]: \n",
    "    plot_pie_chart(col)"
   ]
  },
  {
   "cell_type": "code",
   "execution_count": 132,
   "metadata": {},
   "outputs": [
    {
     "data": {
      "image/png": "[encoded data removed]",
      "text/plain": [
       "<Figure size 1800x216 with 1 Axes>"
      ]
     },
     "metadata": {
      "needs_background": "light"
     },
     "output_type": "display_data"
    },
    {
     "data": {
      "image/png": "[encoded data removed]",
      "text/plain": [
       "<Figure size 1800x216 with 1 Axes>"
      ]
     },
     "metadata": {
      "needs_background": "light"
     },
     "output_type": "display_data"
    },
    {
     "data": {
      "image/png": "[encoded data removed]",
      "text/plain": [
       "<Figure size 1800x216 with 1 Axes>"
      ]
     },
     "metadata": {
      "needs_background": "light"
     },
     "output_type": "display_data"
    },
    {
     "data": {
      "image/png": "[encoded data removed]",
      "text/plain": [
       "<Figure size 1800x216 with 1 Axes>"
      ]
     },
     "metadata": {
      "needs_background": "light"
     },
     "output_type": "display_data"
    }
   ],
   "source": [
    "for col in [\"Severity\",\"County\",\"Roundabout\",\"Bump\"]: \n",
    "    plot_bar_chart(col)"
   ]
  },
  {
   "cell_type": "code",
   "execution_count": null,
   "metadata": {},
   "outputs": [],
   "source": []
  },
  {
   "cell_type": "code",
   "execution_count": null,
   "metadata": {},
   "outputs": [],
   "source": []
  },
  {
   "cell_type": "code",
   "execution_count": null,
   "metadata": {},
   "outputs": [],
   "source": []
  },
  {
   "cell_type": "code",
   "execution_count": null,
   "metadata": {},
   "outputs": [],
   "source": []
  },
  {
   "cell_type": "code",
   "execution_count": null,
   "metadata": {},
   "outputs": [],
   "source": []
  }
 ],
 "metadata": {
  "kernelspec": {
   "display_name": "Python 3",
   "language": "python",
   "name": "python3"
  },
  "language_info": {
   "codemirror_mode": {
    "name": "ipython",
    "version": 3
   },
   "file_extension": ".py",
   "mimetype": "text/x-python",
   "name": "python",
   "nbconvert_exporter": "python",
   "pygments_lexer": "ipython3",
   "version": "3.7.4"
  }
 },
 "nbformat": 4,
 "nbformat_minor": 4
}
